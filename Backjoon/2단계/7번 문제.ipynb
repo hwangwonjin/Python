{
 "cells": [
  {
   "cell_type": "code",
   "execution_count": null,
   "metadata": {},
   "outputs": [],
   "source": [
    "\"\"\"\n",
    "날짜 : 2023/01/03\n",
    "이름 : 황원진\n",
    "내용 : 백준 2단계 7번 문제\n",
    "\"\"\""
   ]
  },
  {
   "cell_type": "code",
   "execution_count": 1,
   "metadata": {},
   "outputs": [
    {
     "name": "stdout",
     "output_type": "stream",
     "text": [
      "1300\n"
     ]
    }
   ],
   "source": [
    "a, b, c = map(int, input().split())  \n",
    "\n",
    "if a == b == c:\n",
    "    print(10000+(a*1000))\n",
    "elif a == b or b == c or a == c:\n",
    "    if a==b:\n",
    "        print(1000+a*100)\n",
    "    elif a == c:\n",
    "        print(1000+a*100)\n",
    "    else:\n",
    "        print(1000+b*100)\n",
    "else:\n",
    "    if a > b and a > c:\n",
    "        print(a*100)\n",
    "    elif b > a and b > c:\n",
    "        print(b*100)\n",
    "    else:\n",
    "        print(c*100)"
   ]
  }
 ],
 "metadata": {
  "kernelspec": {
   "display_name": "Python 3",
   "language": "python",
   "name": "python3"
  },
  "language_info": {
   "codemirror_mode": {
    "name": "ipython",
    "version": 3
   },
   "file_extension": ".py",
   "mimetype": "text/x-python",
   "name": "python",
   "nbconvert_exporter": "python",
   "pygments_lexer": "ipython3",
   "version": "3.11.1 (tags/v3.11.1:a7a450f, Dec  6 2022, 19:58:39) [MSC v.1934 64 bit (AMD64)]"
  },
  "orig_nbformat": 4,
  "vscode": {
   "interpreter": {
    "hash": "5868237a719c5308d34c8911a17794e6baa898a055f8bd5fbd9df195d03bb563"
   }
  }
 },
 "nbformat": 4,
 "nbformat_minor": 2
}
