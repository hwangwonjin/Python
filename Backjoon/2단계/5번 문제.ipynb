{
 "cells": [
  {
   "cell_type": "code",
   "execution_count": null,
   "metadata": {},
   "outputs": [],
   "source": [
    "\"\"\"\n",
    "날짜 : 2023/01/03\n",
    "이름 : 황원진\n",
    "내용 : 백준 2단계 5번 문제\n",
    "\"\"\""
   ]
  },
  {
   "cell_type": "code",
   "execution_count": 7,
   "metadata": {},
   "outputs": [
    {
     "name": "stdout",
     "output_type": "stream",
     "text": [
      "23 45\n"
     ]
    }
   ],
   "source": [
    "a, b = map(int, input().split())  \n",
    "\n",
    "while 0 <= a <= 23 and 0 <= b <= 59: \n",
    "\n",
    "    if b >= 45:\n",
    "        b = b - 45\n",
    "        print(a, b)\n",
    "        break\n",
    "    elif b - 45 < 0:\n",
    "        if a == 0:\n",
    "            a = 23\n",
    "            b = b + 60 -45\n",
    "            print(a, b)\n",
    "            break\n",
    "        else:\n",
    "            a = a - 1 \n",
    "            b = b + 60 -45\n",
    "            print(a, b)\n",
    "            break"
   ]
  }
 ],
 "metadata": {
  "kernelspec": {
   "display_name": "Python 3",
   "language": "python",
   "name": "python3"
  },
  "language_info": {
   "codemirror_mode": {
    "name": "ipython",
    "version": 3
   },
   "file_extension": ".py",
   "mimetype": "text/x-python",
   "name": "python",
   "nbconvert_exporter": "python",
   "pygments_lexer": "ipython3",
   "version": "3.11.1 (tags/v3.11.1:a7a450f, Dec  6 2022, 19:58:39) [MSC v.1934 64 bit (AMD64)]"
  },
  "orig_nbformat": 4,
  "vscode": {
   "interpreter": {
    "hash": "5868237a719c5308d34c8911a17794e6baa898a055f8bd5fbd9df195d03bb563"
   }
  }
 },
 "nbformat": 4,
 "nbformat_minor": 2
}
