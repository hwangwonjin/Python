{
 "cells": [
  {
   "cell_type": "code",
   "execution_count": null,
   "metadata": {},
   "outputs": [],
   "source": [
    "\"\"\"\n",
    "날짜 : 2023/02/06\n",
    "이름 : 황원진\n",
    "내용 : 백준 3단계 6번 문제\n",
    "\"\"\""
   ]
  },
  {
   "cell_type": "code",
   "execution_count": 11,
   "metadata": {},
   "outputs": [
    {
     "name": "stdout",
     "output_type": "stream",
     "text": [
      "Case #1: 2\n",
      "Case #2: 4\n"
     ]
    }
   ],
   "source": [
    "t = int(input())\n",
    "z = 0\n",
    "\n",
    "for k in range(1, t+1):\n",
    "    a, b = map(int, input().split())\n",
    "    z = a + b\n",
    "    print('Case #'+str(k) +': '+str(z))\n",
    "    \n",
    "\n"
   ]
  }
 ],
 "metadata": {
  "kernelspec": {
   "display_name": "Python 3",
   "language": "python",
   "name": "python3"
  },
  "language_info": {
   "codemirror_mode": {
    "name": "ipython",
    "version": 3
   },
   "file_extension": ".py",
   "mimetype": "text/x-python",
   "name": "python",
   "nbconvert_exporter": "python",
   "pygments_lexer": "ipython3",
   "version": "3.11.1"
  },
  "orig_nbformat": 4,
  "vscode": {
   "interpreter": {
    "hash": "5868237a719c5308d34c8911a17794e6baa898a055f8bd5fbd9df195d03bb563"
   }
  }
 },
 "nbformat": 4,
 "nbformat_minor": 2
}
