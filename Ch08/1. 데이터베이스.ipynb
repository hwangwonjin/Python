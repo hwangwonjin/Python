{
 "cells": [
  {
   "cell_type": "code",
   "execution_count": 2,
   "metadata": {},
   "outputs": [],
   "source": [
    "\"\"\"\n",
    "날짜 : 2023/01/13\n",
    "이름 : 황원진\n",
    "내용 : 파이썬 데이터베이스 프로그래밍 실습\n",
    "\"\"\"\n",
    "import pymysql\n"
   ]
  },
  {
   "cell_type": "code",
   "execution_count": 3,
   "metadata": {},
   "outputs": [
    {
     "name": "stdout",
     "output_type": "stream",
     "text": [
      "insert 완료....\n"
     ]
    }
   ],
   "source": [
    "#insert 실습\n",
    "#데이터베이스 접속\n",
    "conn = pymysql.connect(host='127.0.0.1',\n",
    "                user='root', \n",
    "                passwd='1234', \n",
    "                db='java2db', \n",
    "                charset='UTF8')\n",
    "\n",
    "# SQL  실행객체\n",
    "cur = conn.cursor()\n",
    "\n",
    "#SQL 실행\n",
    "sql = \"insert into `user3` values ('x101','홍홍홍','010-1352-9985',12)\"\n",
    "cur.execute(sql)\n",
    "conn.commit()\n",
    "\n",
    "#SQL 종료\n",
    "conn.close()\n",
    "print('insert 완료....')\n"
   ]
  },
  {
   "cell_type": "code",
   "execution_count": 7,
   "metadata": {},
   "outputs": [
    {
     "name": "stdout",
     "output_type": "stream",
     "text": [
      "insert 완료....\n"
     ]
    }
   ],
   "source": [
    "#update 실습\n",
    "#데이터베이스 접속\n",
    "conn = pymysql.connect(host='127.0.0.1', \n",
    "                user='root', \n",
    "                passwd='1234', \n",
    "                db='java2db', \n",
    "                charset='utf8')\n",
    "\n",
    "# SQL  실행객체\n",
    "cur = conn.cursor()\n",
    "\n",
    "#SQL 실행\n",
    "sql = \"update `user3` set \"\n",
    "sql += \"`name`='홍홍홍',\"\n",
    "sql += \"`hp`='010-9958-5547',\"\n",
    "sql += \"`age`=22 \"\n",
    "sql += \"where `uid`='x101'\"\n",
    "\n",
    "cur.execute(sql)\n",
    "conn.commit()\n",
    "\n",
    "#SQL 종료\n",
    "conn.close()\n",
    "print('update 완료....')\n",
    "\n"
   ]
  },
  {
   "cell_type": "code",
   "execution_count": 9,
   "metadata": {},
   "outputs": [
    {
     "name": "stdout",
     "output_type": "stream",
     "text": [
      "delete 완료....\n"
     ]
    }
   ],
   "source": [
    "#delete 실습\n",
    "#데이터베이스 접속\n",
    "conn = pymysql.connect(host='127.0.0.1', \n",
    "                user='root', \n",
    "                passwd='1234', \n",
    "                db='java2db', \n",
    "                charset='utf8')\n",
    "\n",
    "# SQL  실행객체\n",
    "cur = conn.cursor()\n",
    "\n",
    "#SQL 실행\n",
    "cur.execute(\"delete from `user3` where `uid`='x101'\")\n",
    "conn.commit()\n",
    "\n",
    "#SQL 종료\n",
    "conn.close()\n",
    "print('delete 완료....')\n",
    "\n"
   ]
  },
  {
   "cell_type": "code",
   "execution_count": 13,
   "metadata": {},
   "outputs": [
    {
     "ename": "InterfaceError",
     "evalue": "(0, '')",
     "output_type": "error",
     "traceback": [
      "\u001b[1;31m---------------------------------------------------------------------------\u001b[0m",
      "\u001b[1;31mInterfaceError\u001b[0m                            Traceback (most recent call last)",
      "Cell \u001b[1;32mIn[13], line 15\u001b[0m\n\u001b[0;32m     12\u001b[0m cur \u001b[39m=\u001b[39m conn\u001b[39m.\u001b[39mcursor()\n\u001b[0;32m     14\u001b[0m \u001b[39m# SQL 실행\u001b[39;00m\n\u001b[1;32m---> 15\u001b[0m cur\u001b[39m.\u001b[39;49mexecute(\u001b[39m\"\u001b[39;49m\u001b[39mselect * from `user3`\u001b[39;49m\u001b[39m\"\u001b[39;49m)\n\u001b[0;32m     16\u001b[0m conn\u001b[39m.\u001b[39mcommit()\n\u001b[0;32m     18\u001b[0m \u001b[39m# 결과 출력\u001b[39;00m\n",
      "File \u001b[1;32mc:\\Users\\java2\\AppData\\Local\\Programs\\Python\\Python311\\Lib\\site-packages\\pymysql\\cursors.py:148\u001b[0m, in \u001b[0;36mCursor.execute\u001b[1;34m(self, query, args)\u001b[0m\n\u001b[0;32m    144\u001b[0m     \u001b[39mpass\u001b[39;00m\n\u001b[0;32m    146\u001b[0m query \u001b[39m=\u001b[39m \u001b[39mself\u001b[39m\u001b[39m.\u001b[39mmogrify(query, args)\n\u001b[1;32m--> 148\u001b[0m result \u001b[39m=\u001b[39m \u001b[39mself\u001b[39;49m\u001b[39m.\u001b[39;49m_query(query)\n\u001b[0;32m    149\u001b[0m \u001b[39mself\u001b[39m\u001b[39m.\u001b[39m_executed \u001b[39m=\u001b[39m query\n\u001b[0;32m    150\u001b[0m \u001b[39mreturn\u001b[39;00m result\n",
      "File \u001b[1;32mc:\\Users\\java2\\AppData\\Local\\Programs\\Python\\Python311\\Lib\\site-packages\\pymysql\\cursors.py:310\u001b[0m, in \u001b[0;36mCursor._query\u001b[1;34m(self, q)\u001b[0m\n\u001b[0;32m    308\u001b[0m \u001b[39mself\u001b[39m\u001b[39m.\u001b[39m_last_executed \u001b[39m=\u001b[39m q\n\u001b[0;32m    309\u001b[0m \u001b[39mself\u001b[39m\u001b[39m.\u001b[39m_clear_result()\n\u001b[1;32m--> 310\u001b[0m conn\u001b[39m.\u001b[39;49mquery(q)\n\u001b[0;32m    311\u001b[0m \u001b[39mself\u001b[39m\u001b[39m.\u001b[39m_do_get_result()\n\u001b[0;32m    312\u001b[0m \u001b[39mreturn\u001b[39;00m \u001b[39mself\u001b[39m\u001b[39m.\u001b[39mrowcount\n",
      "File \u001b[1;32mc:\\Users\\java2\\AppData\\Local\\Programs\\Python\\Python311\\Lib\\site-packages\\pymysql\\connections.py:547\u001b[0m, in \u001b[0;36mConnection.query\u001b[1;34m(self, sql, unbuffered)\u001b[0m\n\u001b[0;32m    545\u001b[0m \u001b[39mif\u001b[39;00m \u001b[39misinstance\u001b[39m(sql, \u001b[39mstr\u001b[39m):\n\u001b[0;32m    546\u001b[0m     sql \u001b[39m=\u001b[39m sql\u001b[39m.\u001b[39mencode(\u001b[39mself\u001b[39m\u001b[39m.\u001b[39mencoding, \u001b[39m\"\u001b[39m\u001b[39msurrogateescape\u001b[39m\u001b[39m\"\u001b[39m)\n\u001b[1;32m--> 547\u001b[0m \u001b[39mself\u001b[39;49m\u001b[39m.\u001b[39;49m_execute_command(COMMAND\u001b[39m.\u001b[39;49mCOM_QUERY, sql)\n\u001b[0;32m    548\u001b[0m \u001b[39mself\u001b[39m\u001b[39m.\u001b[39m_affected_rows \u001b[39m=\u001b[39m \u001b[39mself\u001b[39m\u001b[39m.\u001b[39m_read_query_result(unbuffered\u001b[39m=\u001b[39munbuffered)\n\u001b[0;32m    549\u001b[0m \u001b[39mreturn\u001b[39;00m \u001b[39mself\u001b[39m\u001b[39m.\u001b[39m_affected_rows\n",
      "File \u001b[1;32mc:\\Users\\java2\\AppData\\Local\\Programs\\Python\\Python311\\Lib\\site-packages\\pymysql\\connections.py:793\u001b[0m, in \u001b[0;36mConnection._execute_command\u001b[1;34m(self, command, sql)\u001b[0m\n\u001b[0;32m    788\u001b[0m \u001b[39m\u001b[39m\u001b[39m\"\"\"\u001b[39;00m\n\u001b[0;32m    789\u001b[0m \u001b[39m:raise InterfaceError: If the connection is closed.\u001b[39;00m\n\u001b[0;32m    790\u001b[0m \u001b[39m:raise ValueError: If no username was specified.\u001b[39;00m\n\u001b[0;32m    791\u001b[0m \u001b[39m\"\"\"\u001b[39;00m\n\u001b[0;32m    792\u001b[0m \u001b[39mif\u001b[39;00m \u001b[39mnot\u001b[39;00m \u001b[39mself\u001b[39m\u001b[39m.\u001b[39m_sock:\n\u001b[1;32m--> 793\u001b[0m     \u001b[39mraise\u001b[39;00m err\u001b[39m.\u001b[39mInterfaceError(\u001b[39m0\u001b[39m, \u001b[39m\"\u001b[39m\u001b[39m\"\u001b[39m)\n\u001b[0;32m    795\u001b[0m \u001b[39m# If the last query was unbuffered, make sure it finishes before\u001b[39;00m\n\u001b[0;32m    796\u001b[0m \u001b[39m# sending new commands\u001b[39;00m\n\u001b[0;32m    797\u001b[0m \u001b[39mif\u001b[39;00m \u001b[39mself\u001b[39m\u001b[39m.\u001b[39m_result \u001b[39mis\u001b[39;00m \u001b[39mnot\u001b[39;00m \u001b[39mNone\u001b[39;00m:\n",
      "\u001b[1;31mInterfaceError\u001b[0m: (0, '')"
     ]
    }
   ],
   "source": [
    "#select 실습\n",
    "from sub.User3VO import User3VO\n",
    "\n",
    "#데이터베이스 접속\n",
    "conn = pymysql.connect(host='127.0.0.1',\n",
    "                user='root',\n",
    "                passwd='1234',\n",
    "                db='java2db',\n",
    "                charset='utf8')\n",
    "\n",
    "# SQL  실행객체\n",
    "cur = conn.cursor()\n",
    "\n",
    "# SQL 실행\n",
    "cur.execute(\"select * from `user3`\")\n",
    "conn.commit()\n",
    "\n",
    "# 결과 출력\n",
    "users = []\n",
    "for row in cur.fetchall():\n",
    "    user = User3VO(row[0], row[1], row[2], row[3])\n",
    "    users.append(user)\n",
    "\n",
    "# 데이터베이스 종료\n",
    "conn.close()\n",
    "print('select 종료....')\n",
    "\n",
    "#결과 출력\n",
    "for user in users:\n",
    "    print('---------')\n",
    "    print('아이디 : ', user.uid)\n",
    "    print('이름 : ', user.name)\n",
    "    print('휴대폰 : ', user.hp)\n",
    "    print('나이 : ', user.age)\n"
   ]
  },
  {
   "cell_type": "code",
   "execution_count": null,
   "metadata": {},
   "outputs": [],
   "source": []
  }
 ],
 "metadata": {
  "kernelspec": {
   "display_name": "Python 3",
   "language": "python",
   "name": "python3"
  },
  "language_info": {
   "codemirror_mode": {
    "name": "ipython",
    "version": 3
   },
   "file_extension": ".py",
   "mimetype": "text/x-python",
   "name": "python",
   "nbconvert_exporter": "python",
   "pygments_lexer": "ipython3",
   "version": "3.11.1"
  },
  "orig_nbformat": 4,
  "vscode": {
   "interpreter": {
    "hash": "5868237a719c5308d34c8911a17794e6baa898a055f8bd5fbd9df195d03bb563"
   }
  }
 },
 "nbformat": 4,
 "nbformat_minor": 2
}
